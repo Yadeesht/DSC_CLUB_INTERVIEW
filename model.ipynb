{
 "cells": [
  {
   "cell_type": "code",
   "execution_count": null,
   "id": "becdc4b5",
   "metadata": {
    "vscode": {
     "languageId": "plaintext"
    }
   },
   "outputs": [],
   "source": [
    "import tensorflow as tf\n",
    "from tensorflow.keras.models import Sequential\n",
    "from tensorflow.keras.layers import Conv2D,MaxPooling2D,Dense,Flatten\n",
    "from tensorflow.keras.optimizers import Adam\n",
    "from tensorflow.keras.preprocessing.image import ImageDataGenerator as idg"
   ]
  },
  {
   "cell_type": "code",
   "execution_count": null,
   "id": "0a1c304a",
   "metadata": {},
   "outputs": [],
   "source": [
    "train_dir=\"/kaggle/input/intel-image-classification/seg_train/seg_train\"\n",
    "val_dir='/kaggle/input/intel-image-classification/seg_test/seg_test'\n",
    "test_dir=\"/kaggle/input/intel-image-classification/seg_pred\""
   ]
  },
  {
   "cell_type": "code",
   "execution_count": null,
   "id": "763fc926",
   "metadata": {},
   "outputs": [],
   "source": [
    "train_data_gen=idg(rescale=1./255)\n",
    "val_data_gen=idg(rescale=1./255)\n",
    "test_data_gen=idg(rescale=1./255)"
   ]
  },
  {
   "cell_type": "code",
   "execution_count": null,
   "id": "c9c95f30",
   "metadata": {},
   "outputs": [],
   "source": [
    "tra_gen=train_data_gen.flow_from_directory(\n",
    "                                            train_dir,\n",
    "                                            target_size=(150, 150),\n",
    "                                            batch_size=32)\n",
    "val_gen=val_data_gen.flow_from_directory(\n",
    "                                            val_dir,\n",
    "                                            target_size=(150, 150),\n",
    "                                            batch_size=32)\n",
    "test_gen=test_data_gen.flow_from_directory(\n",
    "                                            test_dir,\n",
    "                                            target_size=(150, 150),\n",
    "                                            batch_size=32,\n",
    "                                            class_mode=None,)"
   ]
  },
  {
   "cell_type": "code",
   "execution_count": null,
   "id": "da6c1a99",
   "metadata": {},
   "outputs": [],
   "source": [
    "model=Sequential([\n",
    "    Conv2D(128,(3,3),activation='relu',input_shape=(150,150,3)),\n",
    "    MaxPooling2D(2,2),\n",
    "    Conv2D(128,(3,3),activation='relu'),\n",
    "    MaxPooling2D(2,2),\n",
    "    Conv2D(64,(3,3),activation='relu'),\n",
    "    MaxPooling2D(2,2),\n",
    "    Flatten(),\n",
    "    Dense(64,activation='relu'),\n",
    "    Dense(32,activation='relu'),    \n",
    "    Dense(6,activation='sigmoid')    \n",
    "])"
   ]
  },
  {
   "cell_type": "code",
   "execution_count": null,
   "id": "f6a3504e",
   "metadata": {},
   "outputs": [],
   "source": [
    "model.compile(optimizer=Adam(learning_rate=0.001),\n",
    "              loss='categorical_crossentropy',\n",
    "              metrics=['accuracy'])"
   ]
  },
  {
   "cell_type": "code",
   "execution_count": null,
   "id": "e4fc2c72",
   "metadata": {},
   "outputs": [],
   "source": [
    "history=model.fit(tra_gen,\n",
    "                 epochs=15,\n",
    "                validation_data=val_gen)"
   ]
  }
 ],
 "metadata": {
  "language_info": {
   "name": "python"
  }
 },
 "nbformat": 4,
 "nbformat_minor": 5
}
